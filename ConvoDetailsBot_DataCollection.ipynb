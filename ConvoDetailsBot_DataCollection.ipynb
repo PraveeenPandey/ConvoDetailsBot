{
  "nbformat": 4,
  "nbformat_minor": 0,
  "metadata": {
    "colab": {
      "provenance": []
    },
    "kernelspec": {
      "name": "python3",
      "display_name": "Python 3"
    },
    "language_info": {
      "name": "python"
    }
  },
  "cells": [
    {
      "cell_type": "code",
      "execution_count": 2,
      "metadata": {
        "colab": {
          "base_uri": "https://localhost:8080/"
        },
        "id": "j8ICbHBHIfM4",
        "outputId": "fec3d72b-79ac-47f0-9708-c308679e7289"
      },
      "outputs": [
        {
          "output_type": "stream",
          "name": "stdout",
          "text": [
            "Collecting openai\n",
            "  Downloading openai-0.27.8-py3-none-any.whl (73 kB)\n",
            "\u001b[?25l     \u001b[90m━━━━━━━━━━━━━━━━━━━━━━━━━━━━━━━━━━━━━━━━\u001b[0m \u001b[32m0.0/73.6 kB\u001b[0m \u001b[31m?\u001b[0m eta \u001b[36m-:--:--\u001b[0m\r\u001b[2K     \u001b[90m━━━━━━━━━━━━━━━━━━━━━━━━━━━━━━━━━━━━━━━━\u001b[0m \u001b[32m73.6/73.6 kB\u001b[0m \u001b[31m2.1 MB/s\u001b[0m eta \u001b[36m0:00:00\u001b[0m\n",
            "\u001b[?25hRequirement already satisfied: requests>=2.20 in /usr/local/lib/python3.10/dist-packages (from openai) (2.31.0)\n",
            "Requirement already satisfied: tqdm in /usr/local/lib/python3.10/dist-packages (from openai) (4.66.1)\n",
            "Requirement already satisfied: aiohttp in /usr/local/lib/python3.10/dist-packages (from openai) (3.8.5)\n",
            "Requirement already satisfied: charset-normalizer<4,>=2 in /usr/local/lib/python3.10/dist-packages (from requests>=2.20->openai) (3.2.0)\n",
            "Requirement already satisfied: idna<4,>=2.5 in /usr/local/lib/python3.10/dist-packages (from requests>=2.20->openai) (3.4)\n",
            "Requirement already satisfied: urllib3<3,>=1.21.1 in /usr/local/lib/python3.10/dist-packages (from requests>=2.20->openai) (2.0.4)\n",
            "Requirement already satisfied: certifi>=2017.4.17 in /usr/local/lib/python3.10/dist-packages (from requests>=2.20->openai) (2023.7.22)\n",
            "Requirement already satisfied: attrs>=17.3.0 in /usr/local/lib/python3.10/dist-packages (from aiohttp->openai) (23.1.0)\n",
            "Requirement already satisfied: multidict<7.0,>=4.5 in /usr/local/lib/python3.10/dist-packages (from aiohttp->openai) (6.0.4)\n",
            "Requirement already satisfied: async-timeout<5.0,>=4.0.0a3 in /usr/local/lib/python3.10/dist-packages (from aiohttp->openai) (4.0.3)\n",
            "Requirement already satisfied: yarl<2.0,>=1.0 in /usr/local/lib/python3.10/dist-packages (from aiohttp->openai) (1.9.2)\n",
            "Requirement already satisfied: frozenlist>=1.1.1 in /usr/local/lib/python3.10/dist-packages (from aiohttp->openai) (1.4.0)\n",
            "Requirement already satisfied: aiosignal>=1.1.2 in /usr/local/lib/python3.10/dist-packages (from aiohttp->openai) (1.3.1)\n",
            "Installing collected packages: openai\n",
            "Successfully installed openai-0.27.8\n"
          ]
        }
      ],
      "source": [
        "!pip install openai"
      ]
    },
    {
      "cell_type": "code",
      "source": [
        "from flask import Flask, request, jsonify\n",
        "import openai\n",
        "import time\n",
        "import pandas as pd\n",
        "\n",
        "app = Flask(__name__)\n",
        "\n",
        "# Suggested to set up your OpenAI API key, below one is from a free version with limited access\n",
        "openai.api_key = \"YOUR_OPENAI_API_KEY\"\n",
        "\n",
        "# Initial conversation with system message\n",
        "conversation = [\n",
        "    {\"role\": \"system\", \"content\": \"You are a helpful assistant that gathers user details.\"},\n",
        "]\n",
        "\n"
      ],
      "metadata": {
        "id": "kFAbNXd5InvX"
      },
      "execution_count": 5,
      "outputs": []
    },
    {
      "cell_type": "code",
      "source": [
        "# Function to interact with chat agents with rate limiting handling\n",
        "def chat_with_agent(conversation, message):\n",
        "    conversation.append({\"role\": \"user\", \"content\": message})\n",
        "    retries = 3\n",
        "\n",
        "    while retries > 0:\n",
        "        try:\n",
        "            response = openai.ChatCompletion.create(\n",
        "                model=\"gpt-3.5-turbo\",\n",
        "                messages=conversation\n",
        "            )\n",
        "            assistant_reply = response.choices[0].message[\"content\"]\n",
        "            conversation.append({\"role\": \"assistant\", \"content\": assistant_reply})\n",
        "            return assistant_reply\n",
        "        except openai.error.RateLimitError as e:\n",
        "            print(\"Rate limit exceeded. Retrying in 10 seconds...\")\n",
        "            time.sleep(10)  # Wait for 10 seconds before retrying\n",
        "            retries -= 1\n",
        "\n",
        "    print(\"Failed to get a response after retries.\")\n",
        "    return None"
      ],
      "metadata": {
        "id": "iAfveOkzJUx8"
      },
      "execution_count": 6,
      "outputs": []
    },
    {
      "cell_type": "code",
      "source": [
        "# Function to gather user details using designed conversation flow\n",
        "def gather_user_details():\n",
        "    print(\"Welcome to the User Details Collection System!\")\n",
        "    user_details = {}\n",
        "    collected_details = set()\n",
        "\n",
        "    for detail, prompt in agent_prompts.items():\n",
        "\n",
        "        # Ask for the current detail only if it hasn't been provided yet\n",
        "        if detail not in collected_details:\n",
        "            assistant_reply = chat_with_agent(conversation, prompt)\n",
        "            print(\"Agent:\", assistant_reply)\n",
        "            user_response = input(\"User: \")\n",
        "            user_details[detail] = user_response\n",
        "            collected_details.add(detail)\n",
        "\n",
        "    print(\"Thank you for providing your information!\")\n",
        "    return user_details\n"
      ],
      "metadata": {
        "id": "dm5_DVPYYfO7"
      },
      "execution_count": 7,
      "outputs": []
    },
    {
      "cell_type": "code",
      "source": [
        "# Chat agent roles and their prompts\n",
        "agent_prompts = {\n",
        "    \"name\": \"Hello! To get started, could you kindly let me know your full name?\",\n",
        "    \"email\": \"Thank you for sharing your name. May I have your email address?\",\n",
        "    \"phone\": \"Excellent! To stay connected, could you provide your phone number?\",\n",
        "    \"address\": \"Thanks for sharing your contact details. What is your current address?\",\n",
        "    \"dob\": \"Got it! When were you born? Please share your date of birth.\",\n",
        "    \"education\": \"Thank you for providing your date of birth. Lastly, what is your highest level of education?\",\n",
        "}"
      ],
      "metadata": {
        "id": "fuqJkhrMYfdK"
      },
      "execution_count": 8,
      "outputs": []
    },
    {
      "cell_type": "code",
      "source": [
        "# Function to gather user details using REST API\n",
        "@app.route(\"/collect_user_details\", methods=[\"POST\"])\n",
        "def collect_user_details():\n",
        "    try:\n",
        "        user_details = gather_user_details()\n",
        "        user_details_df = pd.DataFrame(user_details.items(), columns=[\"Detail\", \"Response\"])\n",
        "        csv_filename = \"user_details.csv\"\n",
        "        user_details_df.to_csv(csv_filename, index=False)\n",
        "        return jsonify({\"message\": \"User details collected and saved to CSV.\"}), 200\n",
        "    except Exception as e:\n",
        "        return jsonify({\"error\": str(e)}), 500\n",
        "\n",
        "if __name__ == \"__main__\":\n",
        "    app.run(debug=True)\n"
      ],
      "metadata": {
        "colab": {
          "base_uri": "https://localhost:8080/"
        },
        "id": "eP5WAKQ_Yfgt",
        "outputId": "3a788d51-2cef-4499-bac7-1dd89da41b5d"
      },
      "execution_count": null,
      "outputs": [
        {
          "metadata": {
            "tags": null
          },
          "name": "stdout",
          "output_type": "stream",
          "text": [
            " * Serving Flask app '__main__'\n",
            " * Debug mode: on\n"
          ]
        },
        {
          "metadata": {
            "tags": null
          },
          "name": "stderr",
          "output_type": "stream",
          "text": [
            "INFO:werkzeug:\u001b[31m\u001b[1mWARNING: This is a development server. Do not use it in a production deployment. Use a production WSGI server instead.\u001b[0m\n",
            " * Running on http://127.0.0.1:5000\n",
            "INFO:werkzeug:\u001b[33mPress CTRL+C to quit\u001b[0m\n",
            "INFO:werkzeug: * Restarting with stat\n"
          ]
        }
      ]
    },
    {
      "cell_type": "code",
      "source": [],
      "metadata": {
        "id": "WLOq9GmiYfjh"
      },
      "execution_count": null,
      "outputs": []
    }
  ]
}